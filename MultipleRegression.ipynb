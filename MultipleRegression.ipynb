{
 "cells": [
  {
   "cell_type": "code",
   "execution_count": 15,
   "metadata": {},
   "outputs": [],
   "source": [
    "y = [140, 155, 159, 179, 192, 200, 212, 215]\n",
    "x1 = [60, 62, 67, 70, 71, 72, 75, 78]\n",
    "x2 = [22, 25, 24, 20, 15, 14, 14, 11]\n",
    "global b0, b1, b2"
   ]
  },
  {
   "cell_type": "code",
   "execution_count": 16,
   "metadata": {},
   "outputs": [],
   "source": [
    "def step1(y,x1,x2):\n",
    "    #step 1\n",
    "    Ex1_2 = 0\n",
    "    Ex2_2 = 0\n",
    "    Ex1y = 0\n",
    "    Ex2y = 0\n",
    "    Ex1x2 = 0\n",
    "    \n",
    "    for i,j,z in zip(x1,x2,y):\n",
    "        \n",
    "        Ex1_2 += i**2\n",
    "        Ex2_2 += j**2\n",
    "        Ex1y += i*z\n",
    "        Ex2y += j*z\n",
    "        Ex1x2 +=j*i\n",
    "        \n",
    "    Ex1_2 = Ex1_2 - sum(x1)**2/len(x1)\n",
    "    Ex2_2 = Ex2_2 - sum(x2)**2/len(x1)\n",
    "    Ex1y = Ex1y - sum(x1)*sum(y)/len(x1)\n",
    "    Ex2y = Ex2y - sum(x2)*sum(y)/len(x1)\n",
    "    Ex1x2 = Ex1x2 - sum(x1)*sum(x2)/len(x1)\n",
    "        \n",
    "    #step 2\n",
    "    \n",
    "    b1 = (Ex2_2*Ex1y - Ex1x2*Ex2y)/(Ex1_2*Ex2_2 - Ex1x2**2)\n",
    "    b2 = (Ex1_2*Ex2y - Ex1x2*Ex1y)/(Ex1_2*Ex2_2 - Ex1x2**2)\n",
    "    meanX1 = sum(x1)/len(x1)\n",
    "    meanX2 = sum(x2)/len(x2)\n",
    "    meanY = sum(y)/len(y)\n",
    "    b1 = (Ex2_2*Ex1y - Ex1x2*Ex2y)/(Ex1_2*Ex2_2 - Ex1x2**2)\n",
    "    b2 = (Ex1_2*Ex2y - Ex1x2*Ex1y)/(Ex1_2*Ex2_2 - Ex1x2**2)\n",
    "    b0 = meanY - b1*meanX1 - b2*meanX2\n",
    "    \n",
    "    #step 3\n",
    "    #yHat = []\n",
    "    #for i,j in zip(x1,x2):\n",
    "        #yHat.append(b0 + b1*i + b2*j)\n",
    "    return b0, b1, b2\n",
    "   \n"
   ]
  },
  {
   "cell_type": "code",
   "execution_count": 17,
   "metadata": {},
   "outputs": [],
   "source": [
    "def predict_Y(tx1,tx2):\n",
    "    yHat = []\n",
    "    for i,j in zip(tx1,tx2):\n",
    "        yHat.append(b0 + b1*i + b2*j)\n",
    "    return yHat"
   ]
  },
  {
   "cell_type": "code",
   "execution_count": 18,
   "metadata": {
    "scrolled": true
   },
   "outputs": [],
   "source": [
    "nx1 = [60,61]\n",
    "nx2 = [22,24] \n"
   ]
  },
  {
   "cell_type": "code",
   "execution_count": 19,
   "metadata": {},
   "outputs": [
    {
     "ename": "NameError",
     "evalue": "name 'b0' is not defined",
     "output_type": "error",
     "traceback": [
      "\u001b[1;31m---------------------------------------------------------------------------\u001b[0m",
      "\u001b[1;31mNameError\u001b[0m                                 Traceback (most recent call last)",
      "\u001b[1;32m<ipython-input-19-b8efe716f794>\u001b[0m in \u001b[0;36m<module>\u001b[1;34m\u001b[0m\n\u001b[1;32m----> 1\u001b[1;33m \u001b[0mpredict_Y\u001b[0m\u001b[1;33m(\u001b[0m\u001b[0mnx1\u001b[0m\u001b[1;33m,\u001b[0m \u001b[0mnx2\u001b[0m\u001b[1;33m)\u001b[0m\u001b[1;33m\u001b[0m\u001b[1;33m\u001b[0m\u001b[0m\n\u001b[0m",
      "\u001b[1;32m<ipython-input-17-99ea7aed4a81>\u001b[0m in \u001b[0;36mpredict_Y\u001b[1;34m(tx1, tx2)\u001b[0m\n\u001b[0;32m      2\u001b[0m     \u001b[0myHat\u001b[0m \u001b[1;33m=\u001b[0m \u001b[1;33m[\u001b[0m\u001b[1;33m]\u001b[0m\u001b[1;33m\u001b[0m\u001b[1;33m\u001b[0m\u001b[0m\n\u001b[0;32m      3\u001b[0m     \u001b[1;32mfor\u001b[0m \u001b[0mi\u001b[0m\u001b[1;33m,\u001b[0m\u001b[0mj\u001b[0m \u001b[1;32min\u001b[0m \u001b[0mzip\u001b[0m\u001b[1;33m(\u001b[0m\u001b[0mtx1\u001b[0m\u001b[1;33m,\u001b[0m\u001b[0mtx2\u001b[0m\u001b[1;33m)\u001b[0m\u001b[1;33m:\u001b[0m\u001b[1;33m\u001b[0m\u001b[1;33m\u001b[0m\u001b[0m\n\u001b[1;32m----> 4\u001b[1;33m         \u001b[0myHat\u001b[0m\u001b[1;33m.\u001b[0m\u001b[0mappend\u001b[0m\u001b[1;33m(\u001b[0m\u001b[0mb0\u001b[0m \u001b[1;33m+\u001b[0m \u001b[0mb1\u001b[0m\u001b[1;33m*\u001b[0m\u001b[0mi\u001b[0m \u001b[1;33m+\u001b[0m \u001b[0mb2\u001b[0m\u001b[1;33m*\u001b[0m\u001b[0mj\u001b[0m\u001b[1;33m)\u001b[0m\u001b[1;33m\u001b[0m\u001b[1;33m\u001b[0m\u001b[0m\n\u001b[0m\u001b[0;32m      5\u001b[0m     \u001b[1;32mreturn\u001b[0m \u001b[0myHat\u001b[0m\u001b[1;33m\u001b[0m\u001b[1;33m\u001b[0m\u001b[0m\n",
      "\u001b[1;31mNameError\u001b[0m: name 'b0' is not defined"
     ]
    }
   ],
   "source": [
    "predict_Y(nx1, nx2)"
   ]
  },
  {
   "cell_type": "code",
   "execution_count": 684,
   "metadata": {},
   "outputs": [],
   "source": [
    "mar = [1, 2, -1,\n",
    "       -2, 0, 1,\n",
    "       1, -1, 0]"
   ]
  },
  {
   "cell_type": "code",
   "execution_count": 685,
   "metadata": {},
   "outputs": [],
   "source": [
    "first = mar[4]*mar[8] -  mar[5]* mar[7]\n",
    "second = (mar[3]*mar[8] -  mar[5]* mar[6])\n",
    "third = mar[3]*mar[7] -  mar[4]* mar[6]\n",
    "fourth = mar[1]*mar[8] -  mar[2]* mar[7]\n",
    "fifth = mar[0]*mar[8] -  mar[2]* mar[6]\n",
    "sixth = mar[0]*mar[7] -  mar[1]* mar[6]\n",
    "seventh = mar[1]*mar[5] -  mar[2]* mar[4]\n",
    "eighth = mar[0]*mar[5] -  mar[2]* mar[3]\n",
    "ninth = mar[0]*mar[4] -  mar[1]* mar[3]\n",
    "cofactors = [first, -second, third, -fourth, fifth, -sixth, seventh, -eighth, ninth]\n",
    "detA = mar[0]*first + mar[1]*second + mar[2]*third "
   ]
  },
  {
   "cell_type": "code",
   "execution_count": 686,
   "metadata": {},
   "outputs": [],
   "source": [
    "cofactorsReArranged = [cofactors[0],cofactors[3],cofactors[6],\n",
    "                       cofactors[1],cofactors[4],cofactors[7],\n",
    "                       cofactors[2],cofactors[5],cofactors[8]]"
   ]
  },
  {
   "cell_type": "code",
   "execution_count": 694,
   "metadata": {},
   "outputs": [
    {
     "data": {
      "text/plain": [
       "[1, 1, 2, 1, 1, 1, 2, 3, 4]"
      ]
     },
     "execution_count": 694,
     "metadata": {},
     "output_type": "execute_result"
    }
   ],
   "source": [
    "cofactorsReArranged"
   ]
  },
  {
   "cell_type": "code",
   "execution_count": 20,
   "metadata": {},
   "outputs": [],
   "source": [
    "x1 = [0.94, 1.13, 0.61, 1.17, 0.93, 1.94, 2.12, 1.03, 0.67, 0.78, 1.1, 1.78, 1.54, 1.77, 2.22]\n",
    "x2 = [4.22, 3.48, 2.2, 2.2, 2.25, 2.45, 2.62, 2.97, 2.9, 2.64, 2.64, 2.39, 2.76, 2.23, 3.35]\n",
    "x3 = [1.58, 1.28, 0.64, 0.08, 0.38, 1.45, 2.31, 3.6, 2.59, 1.62, 3.16, 0.23, 0.76, 1.42, 1.86]\n",
    "y = [8.23, 8.26, 9.33, 8.92, 8.89, 8.34, 8.51, 9.15, 9.4, 9.01, 8.77, 8.11, 8.0, 8.68, 8.11]\n"
   ]
  },
  {
   "cell_type": "code",
   "execution_count": 21,
   "metadata": {},
   "outputs": [],
   "source": [
    "EX1 = sum(x1)\n",
    "EX2 = sum(x2)\n",
    "EX3 = sum(x3)\n",
    "EY = sum(y) \n",
    "x1Mean = sum(x1)/len(x1)\n",
    "x2Mean = sum(x2)/len(x2)\n",
    "x3Mean = sum(x3)/len(x3)\n",
    "yMean = sum(y)/len(y)\n",
    "n = len(x1)"
   ]
  },
  {
   "cell_type": "code",
   "execution_count": 22,
   "metadata": {},
   "outputs": [
    {
     "data": {
      "text/plain": [
       "8.647333333333332"
      ]
     },
     "execution_count": 22,
     "metadata": {},
     "output_type": "execute_result"
    }
   ],
   "source": [
    "yMean"
   ]
  },
  {
   "cell_type": "code",
   "execution_count": 23,
   "metadata": {
    "scrolled": true
   },
   "outputs": [
    {
     "name": "stdout",
     "output_type": "stream",
     "text": [
      "29.9539 118.22340000000001 50.5184 1124.6456999999998 54.069100000000006 29.884500000000003 168.2071 66.03280000000001 355.7196 200.34120000000004\n"
     ]
    }
   ],
   "source": [
    "EX1_2 = 0\n",
    "EX2_2 = 0\n",
    "EX3_2 = 0\n",
    "EY_2 = 0\n",
    "EX1X2 = 0\n",
    "EX1X3 = 0\n",
    "EX1Y = 0\n",
    "EX2X3 = 0\n",
    "EX2Y = 0\n",
    "EX3Y = 0\n",
    "Ex1x2 = 0\n",
    "for i, j, k, l in zip(x1, x2, x3, y):\n",
    "    EX1_2 += i**2\n",
    "    EX2_2 += j**2\n",
    "    EX3_2 += k**2\n",
    "    EY_2 += l**2\n",
    "    EX1X2 += i*j\n",
    "    EX1X3 += i*k\n",
    "    EX1Y += i*l\n",
    "    EX2X3 += j*k\n",
    "    EX2Y += j*l\n",
    "    EX3Y += k*l\n",
    "   \n",
    "print(EX1_2, EX2_2, EX3_2, EY_2, EX1X2, EX1X3, EX1Y, EX2X3, EX2Y, EX3Y)"
   ]
  },
  {
   "cell_type": "code",
   "execution_count": 24,
   "metadata": {
    "scrolled": true
   },
   "outputs": [],
   "source": [
    "Ex1x2 = EX1X2 - (EX1)*(EX2)/len(x1)\n",
    "Ex1x3 = EX1X3 - (EX1)*(EX3)/len(x1)\n",
    "Ex1y = EX1Y - (EX1)*(EY)/len(x1)\n",
    "Ex2x3 = EX2X3 - (EX2)*(EX3)/len(x1)\n",
    "Ex2y = EX2Y - (EX2)*(EY)/len(x1)\n",
    "Ex3y = EX3Y - (EX3)*(EY)/len(x1)\n",
    "Ex1_2 = EX1_2 - ((EX1)**2/len(x1))\n",
    "Ex2_2 = EX2_2 - ((EX2)**2/len(x1))\n",
    "Ex3_2 = EX3_2 - ((EX3)**2/len(x1))\n",
    "Ey_2 = EY_2 - ((EY)**2/len(y))"
   ]
  },
  {
   "cell_type": "code",
   "execution_count": 25,
   "metadata": {},
   "outputs": [],
   "source": [
    "mar = [Ex1_2, Ex1x2, Ex1x3,\n",
    "       Ex1x2, Ex2_2, Ex2x3,\n",
    "       Ex1x3, Ex2x3, Ex3_2]"
   ]
  },
  {
   "cell_type": "code",
   "execution_count": 26,
   "metadata": {},
   "outputs": [],
   "source": [
    "first = (Ex2_2*Ex3_2)-(Ex2x3*Ex2x3)\n",
    "second = (Ex1x2*Ex3_2)-(Ex1x3*Ex2x3)\n",
    "third=(Ex1x2*Ex2x3)-(Ex1x3*Ex2_2)\n",
    "detA = (Ex1_2*first)- (Ex1x2*second) + (Ex1x3*third)"
   ]
  },
  {
   "cell_type": "code",
   "execution_count": 27,
   "metadata": {},
   "outputs": [
    {
     "data": {
      "text/plain": [
       "244.82708873687494"
      ]
     },
     "execution_count": 27,
     "metadata": {},
     "output_type": "execute_result"
    }
   ],
   "source": [
    "detA"
   ]
  },
  {
   "cell_type": "code",
   "execution_count": 28,
   "metadata": {},
   "outputs": [],
   "source": [
    "first = mar[4]*mar[8] -  mar[5]* mar[7]\n",
    "second = (mar[3]*mar[8] -  mar[5]* mar[6])\n",
    "third = mar[3]*mar[7] -  mar[4]* mar[6]\n",
    "fourth = mar[1]*mar[8] -  mar[2]* mar[7]\n",
    "fifth = mar[0]*mar[8] -  mar[2]* mar[6]\n",
    "sixth = mar[0]*mar[7] -  mar[1]* mar[6]\n",
    "seventh = mar[1]*mar[5] -  mar[2]* mar[4]\n",
    "eighth = mar[0]*mar[5] -  mar[2]* mar[3]\n",
    "ninth = mar[0]*mar[4] -  mar[1]* mar[3]\n",
    "cofactors = [first, -second, third, -fourth, fifth, -sixth, seventh, -eighth, ninth]\n",
    "detA = mar[0]*first + mar[1]*second + mar[2]*third "
   ]
  },
  {
   "cell_type": "code",
   "execution_count": 29,
   "metadata": {},
   "outputs": [],
   "source": [
    "cofactorsReArranged = [cofactors[0],cofactors[3],cofactors[6],\n",
    "                       cofactors[1],cofactors[4],cofactors[7],\n",
    "                       cofactors[2],cofactors[5],cofactors[8]]"
   ]
  },
  {
   "cell_type": "code",
   "execution_count": 30,
   "metadata": {},
   "outputs": [],
   "source": [
    "InversedA = []\n",
    "for i in cofactorsReArranged:\n",
    "    InversedA.append(i*(1/detA))"
   ]
  },
  {
   "cell_type": "code",
   "execution_count": 31,
   "metadata": {},
   "outputs": [
    {
     "data": {
      "text/plain": [
       "[0.24930000892514861,\n",
       " 0.012254138065558393,\n",
       " 0.002872101324999403,\n",
       " 0.012254138065558393,\n",
       " 0.24936539356582757,\n",
       " -0.045427298443155247,\n",
       " 0.002872101324999403,\n",
       " -0.045427298443155247,\n",
       " 0.07301880329192109]"
      ]
     },
     "execution_count": 31,
     "metadata": {},
     "output_type": "execute_result"
    }
   ],
   "source": [
    "InversedA "
   ]
  },
  {
   "cell_type": "code",
   "execution_count": 32,
   "metadata": {},
   "outputs": [],
   "source": [
    "b1 = (InversedA[0]*Ex1y) + (InversedA[1]*Ex2y) + (InversedA[2]*Ex3y)"
   ]
  },
  {
   "cell_type": "code",
   "execution_count": 33,
   "metadata": {},
   "outputs": [],
   "source": [
    "b2 = (InversedA[3]*Ex1y) + (InversedA[4]*Ex2y) + (InversedA[5]*Ex3y)"
   ]
  },
  {
   "cell_type": "code",
   "execution_count": 34,
   "metadata": {},
   "outputs": [],
   "source": [
    "b3 = (InversedA[6]*Ex1y) + (InversedA[7]*Ex2y) + (InversedA[8]*Ex3y)"
   ]
  },
  {
   "cell_type": "code",
   "execution_count": 35,
   "metadata": {},
   "outputs": [],
   "source": [
    "a = yMean - (b1*x1Mean) - (b2*x2Mean) - (b3*x3Mean)"
   ]
  },
  {
   "cell_type": "code",
   "execution_count": 36,
   "metadata": {},
   "outputs": [],
   "source": [
    "y_Prediction = []\n",
    "for i,j,k in zip(x1,x2,x3):\n",
    "    y_Prediction.append(a + (b1*i)+(b2*i)+(b3*k))"
   ]
  },
  {
   "cell_type": "code",
   "execution_count": 37,
   "metadata": {},
   "outputs": [],
   "source": [
    "y_Hat = a + 1*b1 + 3*b2 + 1.5*b3"
   ]
  },
  {
   "cell_type": "code",
   "execution_count": 38,
   "metadata": {},
   "outputs": [
    {
     "data": {
      "text/plain": [
       "8.719958712361823"
      ]
     },
     "execution_count": 38,
     "metadata": {},
     "output_type": "execute_result"
    }
   ],
   "source": [
    "y_Hat"
   ]
  },
  {
   "cell_type": "code",
   "execution_count": null,
   "metadata": {},
   "outputs": [],
   "source": []
  },
  {
   "cell_type": "code",
   "execution_count": null,
   "metadata": {},
   "outputs": [],
   "source": []
  }
 ],
 "metadata": {
  "kernelspec": {
   "display_name": "Python 3",
   "language": "python",
   "name": "python3"
  },
  "language_info": {
   "codemirror_mode": {
    "name": "ipython",
    "version": 3
   },
   "file_extension": ".py",
   "mimetype": "text/x-python",
   "name": "python",
   "nbconvert_exporter": "python",
   "pygments_lexer": "ipython3",
   "version": "3.7.9"
  }
 },
 "nbformat": 4,
 "nbformat_minor": 4
}
